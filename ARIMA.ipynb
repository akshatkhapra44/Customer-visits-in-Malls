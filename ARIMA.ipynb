{
 "cells": [
  {
   "cell_type": "code",
   "execution_count": 1,
   "id": "5bbd3c9f",
   "metadata": {},
   "outputs": [],
   "source": [
    "\n",
    "import pandas as pd"
   ]
  },
  {
   "cell_type": "code",
   "execution_count": 2,
   "id": "7a4723f1",
   "metadata": {},
   "outputs": [
    {
     "data": {
      "text/plain": [
       "'C:\\\\Users\\\\Hp'"
      ]
     },
     "execution_count": 2,
     "metadata": {},
     "output_type": "execute_result"
    }
   ],
   "source": [
    "%pwd"
   ]
  },
  {
   "cell_type": "code",
   "execution_count": null,
   "id": "69830ab1",
   "metadata": {},
   "outputs": [],
   "source": [
    "dataset = pd.read_csv(\"C:/Users/Hp/Downloads/Pedestrian_Counting_System_-_Monthly__counts_per_hour_.csv\")\n",
    "print(dataset)"
   ]
  },
  {
   "cell_type": "code",
   "execution_count": null,
   "id": "e3fbf779",
   "metadata": {},
   "outputs": [],
   "source": [
    "newData = dataset.drop(columns=['Time','ID','Mdate','Day','Sensor_ID','Sensor_Name'])"
   ]
  },
  {
   "cell_type": "code",
   "execution_count": null,
   "id": "baf879d7",
   "metadata": {},
   "outputs": [],
   "source": [
    "newData"
   ]
  },
  {
   "cell_type": "code",
   "execution_count": null,
   "id": "f67388e0",
   "metadata": {},
   "outputs": [],
   "source": [
    "newData.rename({'Hourly_Counts':'Customer_visit'}, axis=1, inplace=True)"
   ]
  },
  {
   "cell_type": "code",
   "execution_count": null,
   "id": "83eda5d1",
   "metadata": {},
   "outputs": [],
   "source": [
    "newData['Date'] =  newData.Date_Time.str[:10]"
   ]
  },
  {
   "cell_type": "code",
   "execution_count": null,
   "id": "ee4ad03c",
   "metadata": {},
   "outputs": [],
   "source": [
    "newData['Date'] = pd.to_datetime(newData.Date)"
   ]
  },
  {
   "cell_type": "code",
   "execution_count": null,
   "id": "49969651",
   "metadata": {},
   "outputs": [],
   "source": [
    "newData "
   ]
  },
  {
   "cell_type": "code",
   "execution_count": null,
   "id": "706084bc",
   "metadata": {},
   "outputs": [],
   "source": [
    "newData.set_index(newData.Date, inplace=True)"
   ]
  },
  {
   "cell_type": "code",
   "execution_count": null,
   "id": "8b7f0d65",
   "metadata": {},
   "outputs": [],
   "source": [
    "newData"
   ]
  },
  {
   "cell_type": "code",
   "execution_count": null,
   "id": "270152c3",
   "metadata": {},
   "outputs": [],
   "source": [
    "newData = newData.drop(columns=['Date_Time','Year','Month','Date'])"
   ]
  },
  {
   "cell_type": "code",
   "execution_count": null,
   "id": "665eea45",
   "metadata": {},
   "outputs": [],
   "source": [
    " time_series_data = newData"
   ]
  },
  {
   "cell_type": "code",
   "execution_count": null,
   "id": "c7ed7f2e",
   "metadata": {},
   "outputs": [],
   "source": [
    "import numpy as np\n",
    "import matplotlib.pylab as plt\n",
    "%matplotlib inline\n",
    "from matplotlib import rcParams"
   ]
  },
  {
   "cell_type": "code",
   "execution_count": null,
   "id": "5283817e",
   "metadata": {},
   "outputs": [],
   "source": [
    "rcParams['figure.figsize'] = 10,6"
   ]
  },
  {
   "cell_type": "code",
   "execution_count": null,
   "id": "6dab252c",
   "metadata": {},
   "outputs": [],
   "source": [
    "plt.xlabel('Date')\n",
    "plt.ylabel('Number of customer visit')\n",
    "plt.plot( time_series_data)"
   ]
  },
  {
   "cell_type": "code",
   "execution_count": null,
   "id": "5c24ba35",
   "metadata": {},
   "outputs": [],
   "source": [
    "# Determing rolling statistics\n",
    "rolmean =  time_series_data.rolling(window =12).mean()\n",
    "rolstd =  time_series_data.rolling(window =12).std()"
   ]
  },
  {
   "cell_type": "code",
   "execution_count": null,
   "id": "b5935291",
   "metadata": {},
   "outputs": [],
   "source": [
    "print(rolmean , rolstd)"
   ]
  },
  {
   "cell_type": "code",
   "execution_count": null,
   "id": "4c02e9dd",
   "metadata": {},
   "outputs": [],
   "source": [
    "orignal_data = plt.plot( time_series_data, color = 'blue', label = 'Original')\n",
    "mean = plt.plot(rolmean, color = 'yellow', label = 'Rolling Mean')\n",
    "standard_deviation = plt.plot(rolstd, color = 'black', label = 'Rolling Std')\n",
    "plt.legend(loc = 'best')\n",
    "plt.title('Rolling Mean & Standard Deviation')\n",
    "plt.show(block = False)"
   ]
  },
  {
   "cell_type": "code",
   "execution_count": null,
   "id": "08e40447",
   "metadata": {},
   "outputs": [],
   "source": [
    "# performing Dicky Fuller test\n",
    "from statsmodels.tsa.stattools import adfuller\n",
    "\n",
    "print('Result of Dicky_ fuller test Method')\n",
    "dftest = adfuller(time_series_data['Customer_visit'], autolag = 'AIC')\n",
    "\n",
    "dfoutput = pd.Series(dftest[0:4], index = ['Test_statistic', 'p_value','#Lags used', 'Number of observation  used'])\n",
    "for key,value in dftest[4].items():\n",
    "    dfoutput['critical value (%s) '%key]= value\n",
    "    \n",
    "print(dfoutput)"
   ]
  },
  {
   "cell_type": "code",
   "execution_count": null,
   "id": "6a351a14",
   "metadata": {},
   "outputs": [],
   "source": [
    "# Estimating Trend \n",
    "time_series_data_logscale = np.log(time_series_data)\n",
    "plt.plot(time_series_data_logscale)\n"
   ]
  },
  {
   "cell_type": "code",
   "execution_count": null,
   "id": "3295a0d2",
   "metadata": {},
   "outputs": [],
   "source": [
    "datasetlogscaledifferenceaverage = time_series_data_logscale - movingAverage\n",
    "datasetlogscaledifferenceaverage.head(12)\n",
    "\n",
    "# Removing Nan value now\n",
    "datasetlogscaledifferenceaverage.dropna(inplace = True)\n",
    "datasetlogscaledifferenceaverage.head(10)\n"
   ]
  },
  {
   "cell_type": "code",
   "execution_count": null,
   "id": "a4264591",
   "metadata": {},
   "outputs": [],
   "source": [
    "from statsmodels.tsa.stattools import adfuller\n",
    "def test_stationarity( time_series):\n",
    "    \n",
    "    Moving_average = time_series.rolling(window =12).mean()\n",
    "    MovingSTD = timeseries.rolling(window =12).std()\n",
    "    \n",
    "    #plot rolling stat..\n",
    "    orig = plt.plot(time_series, color = 'blue', label = 'Orignal')\n",
    "    mean = plt.plot(Moving_average, color = 'red', label = 'Rolling Mean')\n",
    "    std = plt.plot(MovingSTD, color = 'black', label = 'Rolling Std')\n",
    "    plt.legend(loc= 'best')\n",
    "    plt.title('rolling mean and standard deviation')\n",
    "    plt.show(block = False)\n",
    "    \n",
    "    #perform Dicky-Fuller test\n",
    "    print(\"result of Dicky- Fuller test\")\n",
    "    dftest = adfuller(timeseries['Customer_visit'], autolag = 'AIC')\n",
    "    dfoutput= pd.Series(dftest[0:4], index = ['Test_statistic', 'p_value','#Lags used', 'Number of observation  used'])\n",
    "    for key,value in dftest[4].items():\n",
    "        dfoutput['critical value (%s) '%key]= value\n",
    "    print(dfoutput)\n",
    "    \n",
    "    "
   ]
  },
  {
   "cell_type": "code",
   "execution_count": null,
   "id": "6d125a4a",
   "metadata": {},
   "outputs": [],
   "source": [
    "test_stationarity(datasetlogscaledifferenceaverage)"
   ]
  },
  {
   "cell_type": "code",
   "execution_count": null,
   "id": "0b0740e7",
   "metadata": {},
   "outputs": [],
   "source": [
    "datasetlogscaleminusMovingExponentialDecayAverage = time_series_data_logscale - exponentialDecayWeightedAverage\n",
    "test_stationarity(datasetlogscaleminusMovingExponentialDecayAverage)"
   ]
  },
  {
   "cell_type": "code",
   "execution_count": null,
   "id": "96c92e2f",
   "metadata": {},
   "outputs": [],
   "source": [
    "datasetLogDiffshifting = time_series_data_logscale - time_series_data_logscale.shift()\n",
    "plt.plot(datasetLogDiffshifting)"
   ]
  },
  {
   "cell_type": "code",
   "execution_count": null,
   "id": "6852af7f",
   "metadata": {},
   "outputs": [],
   "source": [
    "datasetLogDiffshifting.dropna(inplace = True)\n",
    "test_stationarity(datasetLogDiffshifting)"
   ]
  },
  {
   "cell_type": "code",
   "execution_count": null,
   "id": "7830e454",
   "metadata": {},
   "outputs": [],
   "source": [
    "from statsmodels.tsa.seasonal import seasonal_decompose\n",
    "decomposition = seasonal_decompose(time_series_data_logscale)\n",
    "\n",
    "trend = decomposition.trend\n",
    "seasonal = decomposition.seasonal\n",
    "residual = decomposition.resid"
   ]
  }
 ],
 "metadata": {
  "kernelspec": {
   "display_name": "Python 3",
   "language": "python",
   "name": "python3"
  },
  "language_info": {
   "codemirror_mode": {
    "name": "ipython",
    "version": 3
   },
   "file_extension": ".py",
   "mimetype": "text/x-python",
   "name": "python",
   "nbconvert_exporter": "python",
   "pygments_lexer": "ipython3",
   "version": "3.8.8"
  }
 },
 "nbformat": 4,
 "nbformat_minor": 5
}
